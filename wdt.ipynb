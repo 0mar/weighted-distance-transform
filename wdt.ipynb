{
 "cells": [
  {
   "cell_type": "markdown",
   "metadata": {},
   "source": [
    "# Weighted distance transforms\n",
    "\n",
    "A distance transform of a domain $\\Omega$ (let's say, an image, or an environment) is a function $u$ defined over that domain where for each location $x \\in \\Omega$ the value $\\Phi(x) \\geq 0$ represents the distance to a predetermined set of points. These points could be an object in the image, or some 'goal' in the domain. \n",
    "As the above sentence suggests, distance transforms are commonly used in image analysis and motion planning.\n",
    "\n",
    "SciPy implements a distance transform function. It is horribly fast and I'd love to use it, the only problem is the limited scope. It allows only for binary image values: either 'goal' (0) or 'space' (1), essentially solving the equation\n",
    "\n",
    "$$\\left|\\left|\\nabla \\Phi(x)\\right|\\right|^2 = 1$$\n",
    "\n",
    "I need a *generalized* or *weighted* distance transform. The image can take all nonnegative values, including $+\\infty$.\n",
    "Zero values still indicate goals, but any other positive value now indicates time (or effort) spent instead of Euclidian distance. The value $\\infty$ corresponds to an unaccessible location. \n",
    "Let's assume that the speed that can be attained in location $x$ is denoted with some function $u(x)$. I'd like the answer to \n",
    "\n",
    "$$\\left|\\left|\\nabla \\Phi(x)\\right|\\right|^2 = u(x)$$\n",
    "\n",
    "This notebook implements a fast marching algorithm: upwind scheme meets Dijkstra's algorithm.\n"
   ]
  },
  {
   "cell_type": "code",
   "execution_count": 1,
   "metadata": {},
   "outputs": [
    {
     "name": "stdout",
     "output_type": "stream",
     "text": [
      "No Fortran modules found, falling back on python implementation\n"
     ]
    }
   ],
   "source": [
    "import numpy as np\n",
    "from fortran.wdt import weighted_distance_transform\n",
    "from scipy.misc import imread\n",
    "import time\n",
    "from script import WDT\n",
    "import matplotlib.pyplot as plt"
   ]
  },
  {
   "cell_type": "code",
   "execution_count": 3,
   "metadata": {},
   "outputs": [
    {
     "name": "stdout",
     "output_type": "stream",
     "text": [
      "[[  1.   1.   1.   1.]\n",
      " [  0.   0.   0.  inf]\n",
      " [  1.   0.   1.  inf]\n",
      " [  1.   1.   1.   1.]]\n",
      "[[ 0.5         0.5         0.5         1.5       ]\n",
      " [ 0.          0.          0.          3.        ]\n",
      " [ 0.35355339  0.          0.35355339  3.        ]\n",
      " [ 4.          4.          4.          4.        ]]\n"
     ]
    },
    {
     "ename": "NameError",
     "evalue": "name 'p2' is not defined",
     "output_type": "error",
     "traceback": [
      "\u001b[0;31m---------------------------------------------------------------------------\u001b[0m",
      "\u001b[0;31mNameError\u001b[0m                                 Traceback (most recent call last)",
      "\u001b[0;32m<ipython-input-3-a06bb896618f>\u001b[0m in \u001b[0;36m<module>\u001b[0;34m()\u001b[0m\n\u001b[1;32m     14\u001b[0m \u001b[0mp1\u001b[0m \u001b[0;34m=\u001b[0m \u001b[0mweighted_distance_transform\u001b[0m\u001b[0;34m(\u001b[0m\u001b[0mcells\u001b[0m\u001b[0;34m,\u001b[0m\u001b[0;34m*\u001b[0m\u001b[0mcells\u001b[0m\u001b[0;34m.\u001b[0m\u001b[0mshape\u001b[0m\u001b[0;34m,\u001b[0m\u001b[0;36m3\u001b[0m\u001b[0;34m)\u001b[0m\u001b[0;34m\u001b[0m\u001b[0m\n\u001b[1;32m     15\u001b[0m \u001b[0mprint\u001b[0m\u001b[0;34m(\u001b[0m\u001b[0mnp\u001b[0m\u001b[0;34m.\u001b[0m\u001b[0mrot90\u001b[0m\u001b[0;34m(\u001b[0m\u001b[0mp1\u001b[0m\u001b[0;34m)\u001b[0m\u001b[0;34m)\u001b[0m\u001b[0;34m\u001b[0m\u001b[0m\n\u001b[0;32m---> 16\u001b[0;31m \u001b[0mprint\u001b[0m\u001b[0;34m(\u001b[0m\u001b[0mnp\u001b[0m\u001b[0;34m.\u001b[0m\u001b[0mrot90\u001b[0m\u001b[0;34m(\u001b[0m\u001b[0mp2\u001b[0m\u001b[0;34m)\u001b[0m\u001b[0;34m)\u001b[0m\u001b[0;34m\u001b[0m\u001b[0m\n\u001b[0m",
      "\u001b[0;31mNameError\u001b[0m: name 'p2' is not defined"
     ]
    }
   ],
   "source": [
    "# Example:\n",
    "\"\"\"\n",
    "- - - -\n",
    "* * * -\n",
    "- * - -\n",
    "- - - -\n",
    "\"\"\"\n",
    "nx=ny = 4\n",
    "cells = np.ones([nx,ny])\n",
    "cells[1,1] = 0\n",
    "cells[0:3,2] = 0\n",
    "cells[3,1:3]=np.inf\n",
    "print(np.rot90(cells))\n",
    "p1 = weighted_distance_transform(cells,*cells.shape,3)\n",
    "print(np.rot90(p1))\n",
    "print(np.rot90(p2))"
   ]
  },
  {
   "cell_type": "code",
   "execution_count": null,
   "metadata": {
    "collapsed": true
   },
   "outputs": [],
   "source": []
  }
 ],
 "metadata": {
  "kernelspec": {
   "display_name": "Python 3",
   "language": "python",
   "name": "python3"
  },
  "language_info": {
   "codemirror_mode": {
    "name": "ipython",
    "version": 3
   },
   "file_extension": ".py",
   "mimetype": "text/x-python",
   "name": "python",
   "nbconvert_exporter": "python",
   "pygments_lexer": "ipython3",
   "version": "3.5.2"
  }
 },
 "nbformat": 4,
 "nbformat_minor": 2
}
