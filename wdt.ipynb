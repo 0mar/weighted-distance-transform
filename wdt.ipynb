{
 "cells": [
  {
   "cell_type": "markdown",
   "metadata": {},
   "source": [
    "# Weighted distance transforms\n",
    "\n",
    "A distance transform of a domain $\\Omega$ (let's say, an image, or an environment) is a function $u$ defined over that domain where for each location $x \\in \\Omega$ the value $\\Phi(x) \\geq 0$ represents the distance to a predetermined set of points. These points could be an object in the image, or some 'goal' in the domain. \n",
    "As the above text suggests, distance transforms are commonly used in image analysis and motion planning.\n",
    "\n",
    "SciPy implements a distance transform function. It is horribly fast and I'd love to use it, the only problem is the limited scope. It allows only for binary image values: either 'goal' (0) or 'space' (1), essentially solving the equation\n",
    "\n",
    "$$||\\nabla \\Phi(x)||^2 = 1$$\n",
    "\n",
    "I need a *generalized* or *weighted* distance transform. The image can take all nonnegative values, including $+\\infty$.\n",
    "Zero values still indicate goals, but any other positive value now indicates time (or effort) spent instead of Euclidian distance. The value $\\infty$ corresponds to an unaccessible location. \n",
    "Let's assume that the speed that can be attained in location $x$ is denoted with some function $u(x)$. I'd like the answer to \n",
    "\n",
    "$$||\\nabla \\Phi(x)||^2 = u(x)$$\n",
    "\n",
    "To do this, there are several methods. This notebook implements a fast marching algorithm.\n"
   ]
  },
  {
   "cell_type": "code",
   "execution_count": null,
   "metadata": {
    "collapsed": true
   },
   "outputs": [],
   "source": [
    "import numpy as np\n",
    "import heapq\n",
    "\n",
    "n = 50\n",
    "test_u = np.ones([50,50])\n",
    "circle_loc = np.array([0.5,0.2])\n",
    "\n",
    "def compute_distance_transform(u):\n",
    "    \"\"\"\n",
    "    Compute the weighted distance transform with cost/image function u using a fast marching algorithm\n",
    "    :param u: nonnegative 2D array with cost in each cell/pixel, infinity is allowed\n",
    "    :return: weighted distance transform\n",
    "    \n",
    "    \"\"\"\n",
    "    wdt = np.zeros_like(u)\n",
    "    wdt[u==np.infty] = np.infty\n",
    "    \n",
    "    return wdt\n",
    "    # Make a set of unknown cells\n",
    "    # Make a set of candidate cells:\n",
    "    # While there are unknown cells:\n",
    "    # Compute the value of the candidate cells from the known cells\n",
    "    # Pick the cheapest candidate cell, make it known\n",
    "    # Get new candidate cells and continue while\n",
    "    "
   ]
  }
 ],
 "metadata": {
  "kernelspec": {
   "display_name": "Python 3",
   "language": "python",
   "name": "python3"
  },
  "language_info": {
   "codemirror_mode": {
    "name": "ipython",
    "version": 3
   },
   "file_extension": ".py",
   "mimetype": "text/x-python",
   "name": "python",
   "nbconvert_exporter": "python",
   "pygments_lexer": "ipython3",
   "version": "3.5.2"
  }
 },
 "nbformat": 4,
 "nbformat_minor": 2
}
